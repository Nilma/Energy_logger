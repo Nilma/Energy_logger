{
 "cells": [
  {
   "cell_type": "markdown",
   "id": "6b411a81",
   "metadata": {},
   "source": [
    "# Raspberry Pi 5 Power Analysis\n",
    "This notebook analyzes Pi (on-board PMIC) vs Siglent logs for CPU sweep experiments.\n",
    "- Segments into 20s idle + 80s load windows\n",
    "- Computes per-window means, absolute/relative errors\n",
    "- Correlation analysis (0.5s and 1s bins)\n",
    "- Generates summary tables and plots"
   ]
  },
  {
   "cell_type": "code",
   "execution_count": null,
   "id": "9f2a26da",
   "metadata": {},
   "outputs": [],
   "source": [
    "import pandas as pd\n",
    "import numpy as np\n",
    "import matplotlib.pyplot as plt\n",
    "from pathlib import Path\n"
   ]
  },
  {
   "cell_type": "code",
   "execution_count": null,
   "id": "c4b23f73",
   "metadata": {},
   "outputs": [],
   "source": [
    "# Update these paths to point to your annotated CSV files\n",
    "pi_file = \"energy_log_cpu1-00-10-20-30--100_annotated.csv\"\n",
    "siglent_file = \"siglent_cpu1-00-10-20-30--100-annotated.csv\"\n"
   ]
  },
  {
   "cell_type": "code",
   "execution_count": null,
   "id": "300a8eab",
   "metadata": {},
   "outputs": [],
   "source": [
    "pi = pd.read_csv(pi_file, sep=\";\", decimal=\",\", engine=\"python\")\n",
    "pi[\"time\"] = pd.to_datetime(pi[\" Timestamp \"], errors=\"coerce\")\n",
    "pi[\"power_pi\"] = pd.to_numeric(pi[\"Power (W)\"], errors=\"coerce\")\n",
    "pi = pi.dropna(subset=[\"time\"]).sort_values(\"time\")\n",
    "pi.head()\n"
   ]
  },
  {
   "cell_type": "code",
   "execution_count": null,
   "id": "55f98b88",
   "metadata": {},
   "outputs": [],
   "source": [
    "sig = pd.read_csv(siglent_file, sep=\";\", decimal=\",\", engine=\"python\")\n",
    "sig[\"time\"] = pd.to_datetime(sig[\" Timestamp \"], errors=\"coerce\")\n",
    "sig[\"power_sig\"] = pd.to_numeric(sig[\"Power (W)\"], errors=\"coerce\")\n",
    "sig = sig.dropna(subset=[\"time\"]).sort_values(\"time\")\n",
    "sig.head()\n"
   ]
  },
  {
   "cell_type": "code",
   "execution_count": null,
   "id": "1edd2cd7",
   "metadata": {},
   "outputs": [],
   "source": [
    "pi_rate = 10   # Pi logs ~10 Hz\n",
    "sig_rate = 2   # Siglent logs ~2 Hz\n",
    "window_idle = 20 * pi_rate\n",
    "window_load = 80 * pi_rate\n",
    "\n",
    "segments = []\n",
    "loads = [0,10,20,30,40,50,60,70,80,90,100]\n",
    "idx = 0\n",
    "for load in loads:\n",
    "    # idle\n",
    "    seg_pi_idle = pi.iloc[idx:idx+window_idle]\n",
    "    seg_sig_idle = sig.iloc[int(idx/5):int((idx+window_idle)/5)]\n",
    "    segments.append((load, \"idle\", seg_pi_idle[\"power_pi\"].mean(), seg_sig_idle[\"power_sig\"].mean()))\n",
    "    idx += window_idle\n",
    "    \n",
    "    # load\n",
    "    seg_pi_load = pi.iloc[idx:idx+window_load]\n",
    "    seg_sig_load = sig.iloc[int(idx/5):int((idx+window_load)/5)]\n",
    "    segments.append((load, \"load\", seg_pi_load[\"power_pi\"].mean(), seg_sig_load[\"power_sig\"].mean()))\n",
    "    idx += window_load\n",
    "\n",
    "df_summary = pd.DataFrame(segments, columns=[\"cpuload\",\"phase\",\"mean_pi\",\"mean_siglent\"])\n",
    "df_summary[\"abs_error_W\"] = df_summary[\"mean_pi\"] - df_summary[\"mean_siglent\"]\n",
    "df_summary[\"rel_error_%\"] = 100 * df_summary[\"abs_error_W\"] / df_summary[\"mean_siglent\"]\n",
    "df_summary\n"
   ]
  },
  {
   "cell_type": "code",
   "execution_count": null,
   "id": "ff9fa3de",
   "metadata": {},
   "outputs": [],
   "source": [
    "outdir = Path(\"analysis_output\")\n",
    "outdir.mkdir(exist_ok=True)\n",
    "df_summary.to_csv(outdir/\"summary.csv\", index=False)\n",
    "print(\"Summary saved to\", outdir/\"summary.csv\")\n"
   ]
  },
  {
   "cell_type": "code",
   "execution_count": null,
   "id": "07722e66",
   "metadata": {},
   "outputs": [],
   "source": [
    "plt.figure(figsize=(10,6))\n",
    "bar_labels = [f\"{l}-{p}\" for l,p in zip(df_summary[\"cpuload\"], df_summary[\"phase\"])]\n",
    "plt.bar(bar_labels, df_summary[\"mean_pi\"], alpha=0.7, label=\"Pi\", color=\"orange\")\n",
    "plt.bar(bar_labels, df_summary[\"mean_siglent\"], alpha=0.7, label=\"Siglent\", color=\"blue\")\n",
    "plt.xticks(rotation=90)\n",
    "plt.ylabel(\"Mean Power (W)\")\n",
    "plt.title(\"Mean Power by Load (Pi vs Siglent)\")\n",
    "plt.legend()\n",
    "plt.tight_layout()\n",
    "plt.savefig(outdir/\"mean_power_bar.png\")\n",
    "plt.show()\n"
   ]
  },
  {
   "cell_type": "code",
   "execution_count": null,
   "id": "b758857c",
   "metadata": {},
   "outputs": [],
   "source": [
    "x = df_summary[\"mean_pi\"].values\n",
    "y = df_summary[\"mean_siglent\"].values\n",
    "slope, intercept = np.polyfit(x,y,1)\n",
    "\n",
    "plt.figure(figsize=(6,6))\n",
    "plt.scatter(x,y,c=\"purple\",label=\"Windows\")\n",
    "plt.plot([x.min(),x.max()],[slope*x.min()+intercept, slope*x.max()+intercept],\n",
    "         color=\"red\",label=f\"y={slope:.2f}x+{intercept:.2f}\")\n",
    "plt.xlabel(\"Pi Mean Power (W)\")\n",
    "plt.ylabel(\"Siglent Mean Power (W)\")\n",
    "plt.title(\"Pi vs Siglent (per window means)\")\n",
    "plt.legend()\n",
    "plt.grid(True)\n",
    "plt.savefig(outdir/\"scatter_regression.png\")\n",
    "plt.show()\n"
   ]
  },
  {
   "cell_type": "code",
   "execution_count": null,
   "id": "8ccac45a",
   "metadata": {},
   "outputs": [],
   "source": [
    "def align_by_index(pi, sig, bin_size_s=0.5):\n",
    "    samples_per_bin_pi = int(round(bin_size_s / 0.1))  # Pi ~10Hz\n",
    "    pi_vals = [pi[\"power_pi\"].values[i:i+samples_per_bin_pi].mean()\n",
    "               for i in range(0, len(pi), samples_per_bin_pi)]\n",
    "    \n",
    "    samples_per_bin_sig = int(round(bin_size_s / 0.5))  # Sig ~2Hz\n",
    "    sig_vals = [sig[\"power_sig\"].values[i:i+samples_per_bin_sig].mean()\n",
    "                for i in range(0, len(sig), samples_per_bin_sig)]\n",
    "    \n",
    "    n = min(len(pi_vals), len(sig_vals))\n",
    "    pi_vals, sig_vals = pi_vals[:n], sig_vals[:n]\n",
    "    df = pd.DataFrame({\"pi\": pi_vals, \"sig\": sig_vals})\n",
    "    r = df.corr().iloc[0,1]\n",
    "    return df, r\n"
   ]
  },
  {
   "cell_type": "code",
   "execution_count": null,
   "id": "8c02e943",
   "metadata": {},
   "outputs": [],
   "source": [
    "df_corr_05, r05 = align_by_index(pi, sig, 0.5)\n",
    "df_corr_1s, r1s = align_by_index(pi, sig, 1.0)\n",
    "print(\"Correlation (0.5s bins):\", r05)\n",
    "print(\"Correlation (1s bins):\", r1s)\n"
   ]
  }
 ],
 "metadata": {},
 "nbformat": 4,
 "nbformat_minor": 5
}
