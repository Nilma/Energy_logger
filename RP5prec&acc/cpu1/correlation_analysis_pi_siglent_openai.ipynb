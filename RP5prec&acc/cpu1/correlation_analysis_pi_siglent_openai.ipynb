{
 "cells": [
  {
   "cell_type": "markdown",
   "id": "ae60cfd3",
   "metadata": {},
   "source": [
    "# Correlation Analysis between Pi and Siglent Current Measurements\n",
    "This notebook loads two aligned CSV files (`df_energylog.csv` and `df_siglentlog.csv`), computes the correlation between their current measurements, and visualizes the results."
   ]
  },
  {
   "cell_type": "code",
   "execution_count": null,
   "id": "62e3d2c4",
   "metadata": {},
   "outputs": [],
   "source": [
    "import pandas as pd\n",
    "import matplotlib.pyplot as plt\n",
    "import numpy as np\n"
   ]
  },
  {
   "cell_type": "code",
   "execution_count": null,
   "id": "febda754",
   "metadata": {},
   "outputs": [],
   "source": [
    "# --- File paths ---\n",
    "pi_file = \"df_energylog.csv\"\n",
    "siglent_file = \"df_siglentlog.csv\"\n"
   ]
  },
  {
   "cell_type": "code",
   "execution_count": null,
   "id": "25cd0492",
   "metadata": {},
   "outputs": [],
   "source": [
    "# --- Load CSVs ---\n",
    "df_pi = pd.read_csv(pi_file)\n",
    "df_sig = pd.read_csv(siglent_file)\n",
    "\n",
    "print(\"Pi log columns:\", df_pi.columns)\n",
    "print(\"Siglent log columns:\", df_sig.columns)\n",
    "\n",
    "df_pi.head(), df_sig.head()\n"
   ]
  },
  {
   "cell_type": "code",
   "execution_count": null,
   "id": "167af4b7",
   "metadata": {},
   "outputs": [],
   "source": [
    "# --- Correlation analysis ---\n",
    "# Ensure equal length for fair comparison\n",
    "n = min(len(df_pi), len(df_sig))\n",
    "pi_curr = df_pi[\"current\"].iloc[:n].values\n",
    "sig_curr = df_sig[\"current\"].iloc[:n].values\n",
    "\n",
    "# Compute Pearson correlation\n",
    "corr_val = pd.Series(pi_curr).corr(pd.Series(sig_curr))\n",
    "print(\"Correlation (Pearson r):\", corr_val)\n"
   ]
  },
  {
   "cell_type": "code",
   "execution_count": null,
   "id": "162ea840",
   "metadata": {},
   "outputs": [],
   "source": [
    "# --- Scatter plot ---\n",
    "plt.figure(figsize=(6,6))\n",
    "plt.scatter(pi_curr, sig_curr, alpha=0.5, label=f\"r={corr_val:.2f}\")\n",
    "plt.xlabel(\"Pi current (A)\")\n",
    "plt.ylabel(\"Siglent current (A)\")\n",
    "plt.title(\"Correlation between Pi and Siglent current\")\n",
    "plt.legend()\n",
    "plt.grid(True)\n",
    "plt.show()\n"
   ]
  },
  {
   "cell_type": "code",
   "execution_count": null,
   "id": "9474ec29",
   "metadata": {},
   "outputs": [],
   "source": [
    "# --- Error statistics ---\n",
    "errors = pi_curr - sig_curr\n",
    "mae = np.mean(np.abs(errors))\n",
    "rmse = np.sqrt(np.mean(errors**2))\n",
    "mape = np.mean(np.abs(errors / sig_curr)) * 100\n",
    "\n",
    "print(f\"Mean Absolute Error (A): {mae:.4f}\")\n",
    "print(f\"Root Mean Square Error (A): {rmse:.4f}\")\n",
    "print(f\"Mean Absolute Percentage Error (%): {mape:.2f}%\")\n"
   ]
  }
 ],
 "metadata": {
  "kernelspec": {
   "display_name": "Python 3 (ipykernel)",
   "language": "python",
   "name": "python3"
  },
  "language_info": {
   "codemirror_mode": {
    "name": "ipython",
    "version": 3
   },
   "file_extension": ".py",
   "mimetype": "text/x-python",
   "name": "python",
   "nbconvert_exporter": "python",
   "pygments_lexer": "ipython3",
   "version": "3.12.2"
  }
 },
 "nbformat": 4,
 "nbformat_minor": 5
}
