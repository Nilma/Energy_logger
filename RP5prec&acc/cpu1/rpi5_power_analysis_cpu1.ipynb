{
 "cells": [
  {
   "cell_type": "markdown",
   "id": "c046e5ec",
   "metadata": {},
   "source": [
    "# Raspberry Pi 5 Power Analysis (CPU1)\n",
    "This notebook analyzes Raspberry Pi (on-board PMIC) vs Siglent logs for CPU1 sweep.\n",
    "\n",
    "Steps:\n",
    "- Automatic detection of timestamp & power columns\n",
    "- Fallback to sample index if Siglent has no timestamp\n",
    "- Per-window averages (20s idle + 80s load)\n",
    "- Error calculations (absolute + relative)\n",
    "- Bar charts, scatter plots with regression\n",
    "- Correlation at 0.5s and 1s bins"
   ]
  },
  {
   "cell_type": "code",
   "execution_count": 1,
   "id": "745db875",
   "metadata": {},
   "outputs": [],
   "source": [
    "import pandas as pd\n",
    "import numpy as np\n",
    "import matplotlib.pyplot as plt\n",
    "from pathlib import Path\n"
   ]
  },
  {
   "cell_type": "code",
   "execution_count": 2,
   "id": "a608702a",
   "metadata": {},
   "outputs": [],
   "source": [
    "# --- File paths ---\n",
    "pi_file = \"energy_log_cpu1-00-10-20-30--100_annotated.csv\"\n",
    "siglent_file = \"siglent_cpu1-00-10-20-30--100-annotated.csv\"\n"
   ]
  },
  {
   "cell_type": "code",
   "execution_count": 3,
   "id": "dfac3ae1",
   "metadata": {},
   "outputs": [],
   "source": [
    "def load_logs(pi_file, siglent_file):\n",
    "    # Load Pi log\n",
    "    pi = pd.read_csv(pi_file, sep=\";\", decimal=\",\", engine=\"python\")\n",
    "    ts_cols_pi = [c for c in pi.columns if \"Timestamp\" in c or \"Date\" in c]\n",
    "    power_cols_pi = [c for c in pi.columns if \"power\" in c.lower()]\n",
    "    ts_col_pi = ts_cols_pi[0]\n",
    "    power_col_pi = power_cols_pi[0]\n",
    "    try:\n",
    "        pi[\"time\"] = pd.to_datetime(pi[ts_col_pi], format=\"%Y-%m-%d %H:%M:%S.%f\", errors=\"coerce\")\n",
    "    except Exception:\n",
    "        pi[\"time\"] = pd.to_datetime(pi[ts_col_pi], errors=\"coerce\")\n",
    "    pi[\"power_pi\"] = pd.to_numeric(pi[power_col_pi], errors=\"coerce\")\n",
    "    pi = pi.dropna(subset=[\"time\"]).sort_values(\"time\")\n",
    "    \n",
    "    # Load Siglent log\n",
    "    sig = pd.read_csv(siglent_file, sep=\";\", decimal=\",\", engine=\"python\")\n",
    "    ts_cols_sig = [c for c in sig.columns if \"Timestamp\" in c or \"Date\" in c]\n",
    "    if len(ts_cols_sig) > 0:\n",
    "        ts_col_sig = ts_cols_sig[0]\n",
    "        try:\n",
    "            sig[\"time\"] = pd.to_datetime(sig[ts_col_sig], format=\"%Y-%m-%d %H:%M:%S.%f\", errors=\"coerce\")\n",
    "        except Exception:\n",
    "            sig[\"time\"] = pd.to_datetime(sig[ts_col_sig], errors=\"coerce\")\n",
    "    else:\n",
    "        sig[\"time\"] = pd.RangeIndex(start=0, stop=len(sig), step=1)\n",
    "    power_cols_sig = [c for c in sig.columns if \"power\" in c.lower()]\n",
    "    if len(power_cols_sig) == 0:\n",
    "        raise ValueError(\"No power column found in Siglent file!\")\n",
    "    power_col_sig = power_cols_sig[0]\n",
    "    sig[\"power_sig\"] = pd.to_numeric(sig[power_col_sig], errors=\"coerce\")\n",
    "    sig = sig.dropna(subset=[\"power_sig\"]).sort_values(\"time\")\n",
    "    \n",
    "    return pi, sig\n",
    "\n",
    "def analyze(pi, sig, outdir):\n",
    "    outdir = Path(outdir)\n",
    "    outdir.mkdir(exist_ok=True)\n",
    "    \n",
    "    pi_rate = 10\n",
    "    window_idle = 20 * pi_rate\n",
    "    window_load = 80 * pi_rate\n",
    "    \n",
    "    segments = []\n",
    "    loads = [0,10,20,30,40,50,60,70,80,90,100]\n",
    "    idx = 0\n",
    "    for load in loads:\n",
    "        seg_pi_idle = pi.iloc[idx:idx+window_idle]\n",
    "        seg_sig_idle = sig.iloc[int(idx/5):int((idx+window_idle)/5)]\n",
    "        segments.append((load, \"idle\", seg_pi_idle[\"power_pi\"].mean(), seg_sig_idle[\"power_sig\"].mean()))\n",
    "        idx += window_idle\n",
    "        \n",
    "        seg_pi_load = pi.iloc[idx:idx+window_load]\n",
    "        seg_sig_load = sig.iloc[int(idx/5):int((idx+window_load)/5)]\n",
    "        segments.append((load, \"load\", seg_pi_load[\"power_pi\"].mean(), seg_sig_load[\"power_sig\"].mean()))\n",
    "        idx += window_load\n",
    "    \n",
    "    df_summary = pd.DataFrame(segments, columns=[\"cpuload\",\"phase\",\"mean_pi\",\"mean_siglent\"])\n",
    "    df_summary[\"abs_error_W\"] = df_summary[\"mean_pi\"] - df_summary[\"mean_siglent\"]\n",
    "    df_summary[\"rel_error_%\"] = 100 * df_summary[\"abs_error_W\"] / df_summary[\"mean_siglent\"]\n",
    "    df_summary.to_csv(outdir/\"summary.csv\", index=False)\n",
    "    \n",
    "    # Bar chart\n",
    "    plt.figure(figsize=(10,6))\n",
    "    bar_labels = [f\"{l}-{p}\" for l,p in zip(df_summary[\"cpuload\"], df_summary[\"phase\"])]\n",
    "    plt.bar(bar_labels, df_summary[\"mean_pi\"], alpha=0.7, label=\"Pi\", color=\"orange\")\n",
    "    plt.bar(bar_labels, df_summary[\"mean_siglent\"], alpha=0.7, label=\"Siglent\", color=\"blue\")\n",
    "    plt.xticks(rotation=90)\n",
    "    plt.ylabel(\"Mean Power (W)\")\n",
    "    plt.title(\"Mean Power by Load (Pi vs Siglent)\")\n",
    "    plt.legend()\n",
    "    plt.tight_layout()\n",
    "    plt.savefig(outdir/\"mean_power_bar.png\")\n",
    "    plt.show()\n",
    "    \n",
    "    # Scatter + regression\n",
    "    x = df_summary[\"mean_pi\"].values\n",
    "    y = df_summary[\"mean_siglent\"].values\n",
    "    mask = (~np.isnan(x)) & (~np.isnan(y)) & np.isfinite(x) & np.isfinite(y)\n",
    "    x, y = x[mask], y[mask]\n",
    "    if len(x) > 1:\n",
    "        slope, intercept = np.polyfit(x,y,1)\n",
    "        plt.figure(figsize=(6,6))\n",
    "        plt.scatter(x,y,c=\"purple\",label=\"Windows\")\n",
    "        plt.plot([x.min(),x.max()],[slope*x.min()+intercept, slope*x.max()+intercept],\n",
    "                 color=\"red\",label=f\"y={slope:.2f}x+{intercept:.2f}\")\n",
    "        plt.xlabel(\"Pi Mean Power (W)\")\n",
    "        plt.ylabel(\"Siglent Mean Power (W)\")\n",
    "        plt.title(\"Pi vs Siglent (per window means)\")\n",
    "        plt.legend()\n",
    "        plt.grid(True)\n",
    "        plt.savefig(outdir/\"scatter_regression.png\")\n",
    "        plt.show()\n",
    "    \n",
    "    return df_summary\n",
    "\n",
    "def align_by_index(pi, sig, bin_size_s=0.5):\n",
    "    samples_per_bin_pi = int(round(bin_size_s / 0.1))\n",
    "    pi_vals = [pi[\"power_pi\"].values[i:i+samples_per_bin_pi].mean()\n",
    "               for i in range(0, len(pi), samples_per_bin_pi)]\n",
    "    samples_per_bin_sig = int(round(bin_size_s / 0.5))\n",
    "    sig_vals = [sig[\"power_sig\"].values[i:i+samples_per_bin_sig].mean()\n",
    "                for i in range(0, len(sig), samples_per_bin_sig)]\n",
    "    n = min(len(pi_vals), len(sig_vals))\n",
    "    pi_vals, sig_vals = pi_vals[:n], sig_vals[:n]\n",
    "    df = pd.DataFrame({\"pi\": pi_vals, \"sig\": sig_vals})\n",
    "    r = df.corr().iloc[0,1]\n",
    "    return df, r\n"
   ]
  },
  {
   "cell_type": "code",
   "execution_count": 4,
   "id": "bd492b98",
   "metadata": {},
   "outputs": [
    {
     "data": {
      "image/png": "[encoded data removed]",
      "text/plain": [
       "<Figure size 1000x600 with 1 Axes>"
      ]
     },
     "metadata": {},
     "output_type": "display_data"
    },
    {
     "name": "stdout",
     "output_type": "stream",
     "text": [
      "CPU1 correlation (0.5s): nan\n",
      "CPU1 correlation (1s): nan\n"
     ]
    }
   ],
   "source": [
    "# --- Run analysis for CPU1 ---\n",
    "pi, sig = load_logs(pi_file, siglent_file)\n",
    "df_summary = analyze(pi, sig, \"analysis_cpu1_sweep\")\n",
    "df_corr_05, r05 = align_by_index(pi, sig, 0.5)\n",
    "df_corr_1s, r1s = align_by_index(pi, sig, 1.0)\n",
    "print(\"CPU1 correlation (0.5s):\", r05)\n",
    "print(\"CPU1 correlation (1s):\", r1s)\n"
   ]
  },
  {
   "cell_type": "code",
   "execution_count": null,
   "id": "9b40845d-d239-4c86-8013-c4acc6fbe354",
   "metadata": {},
   "outputs": [],
   "source": []
  },
  {
   "cell_type": "code",
   "execution_count": null,
   "id": "d24c8257-ee00-4fd0-b609-4150937b887e",
   "metadata": {},
   "outputs": [],
   "source": []
  },
  {
   "cell_type": "code",
   "execution_count": null,
   "id": "e92f58fe-9020-402a-bdf5-c526f9399797",
   "metadata": {},
   "outputs": [],
   "source": []
  },
  {
   "cell_type": "code",
   "execution_count": null,
   "id": "2087db1f-46bd-4716-85e9-7dc805f0a7c4",
   "metadata": {},
   "outputs": [],
   "source": []
  }
 ],
 "metadata": {
  "kernelspec": {
   "display_name": "Python 3 (ipykernel)",
   "language": "python",
   "name": "python3"
  },
  "language_info": {
   "codemirror_mode": {
    "name": "ipython",
    "version": 3
   },
   "file_extension": ".py",
   "mimetype": "text/x-python",
   "name": "python",
   "nbconvert_exporter": "python",
   "pygments_lexer": "ipython3",
   "version": "3.12.2"
  }
 },
 "nbformat": 4,
 "nbformat_minor": 5
}
