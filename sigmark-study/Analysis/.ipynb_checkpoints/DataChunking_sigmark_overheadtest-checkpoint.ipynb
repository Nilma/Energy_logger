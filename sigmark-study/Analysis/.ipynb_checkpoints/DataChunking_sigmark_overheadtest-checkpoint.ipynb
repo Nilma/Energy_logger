{
 "cells": [
  {
   "cell_type": "code",
   "execution_count": 59,
   "id": "47d806b8-69f3-4816-ad6c-af146c60faf3",
   "metadata": {},
   "outputs": [],
   "source": [
    "import pandas as pd\n",
    "import seaborn as sns\n",
    "import matplotlib.pyplot as plt\n",
    "from scipy import integrate\n",
    "import numpy as np\n",
    "import matplotlib.pyplot as plt\n",
    "import os\n",
    "import re\n",
    "import csv, json"
   ]
  },
  {
   "cell_type": "code",
   "execution_count": 61,
   "id": "797fc957-e425-45dc-83f5-294f3367d8c9",
   "metadata": {},
   "outputs": [
    {
     "name": "stdout",
     "output_type": "stream",
     "text": [
      "\u001b[34m16-sep-2025\u001b[m\u001b[m/            \u001b[34msuits-sep-23-C3-C5\u001b[m\u001b[m/     \u001b[31msuits-sep-24-C2-C4.zip\u001b[m\u001b[m*\n",
      "\u001b[34msuits-sep-23-C2-C4\u001b[m\u001b[m/     \u001b[31msuits-sep-23-C3-C5.zip\u001b[m\u001b[m* \u001b[34msuits-sep-24-C3-C5\u001b[m\u001b[m/\n",
      "\u001b[31msuits-sep-23-C2-C4.zip\u001b[m\u001b[m* \u001b[34msuits-sep-24-C2-C4\u001b[m\u001b[m/     \u001b[31msuits-sep-24-C3-C5.zip\u001b[m\u001b[m*\n"
     ]
    }
   ],
   "source": [
    "ls ../RawData"
   ]
  },
  {
   "cell_type": "code",
   "execution_count": 63,
   "id": "5c0c07d3-8d71-4c2d-bc4a-4b1fc576a7c8",
   "metadata": {},
   "outputs": [],
   "source": [
    "input_directory = '../RawData'\n",
    "output_directory = '../ChunkedData/'"
   ]
  },
  {
   "cell_type": "code",
   "execution_count": 65,
   "id": "b62cc016-128a-4268-90f2-feaff84c3b0c",
   "metadata": {},
   "outputs": [],
   "source": [
    "os.listdir(input_directory)\n",
    "onlydir = [f for f in os.listdir(input_directory) if os.path.isdir(os.path.join(input_directory, f))]\n",
    "onlyfiles = [f for f in os.listdir(input_directory) if os.path.isfile(os.path.join(input_directory, f))]"
   ]
  },
  {
   "cell_type": "code",
   "execution_count": 67,
   "id": "c9c6a8d3-1442-44b6-a3e3-29fa1a0bde8e",
   "metadata": {},
   "outputs": [
    {
     "data": {
      "text/plain": [
       "['suits-sep-24-C3-C5',\n",
       " 'suits-sep-24-C2-C4',\n",
       " 'suits-sep-23-C2-C4',\n",
       " '16-sep-2025',\n",
       " 'suits-sep-23-C3-C5']"
      ]
     },
     "execution_count": 67,
     "metadata": {},
     "output_type": "execute_result"
    }
   ],
   "source": [
    "onlydir"
   ]
  },
  {
   "cell_type": "code",
   "execution_count": 69,
   "id": "5a0e5343-d1d1-4eb3-bc21-1877f39ea62c",
   "metadata": {},
   "outputs": [],
   "source": [
    "def parse_csv_line(line: str):\n",
    "    # csv.reader handles the quoted JSON payload with doubled quotes\n",
    "    return next(csv.reader([line], delimiter=',', quotechar='\"', doublequote=True))"
   ]
  },
  {
   "cell_type": "code",
   "execution_count": 71,
   "id": "f643c8fd-d0d4-405e-ad27-0097533936e3",
   "metadata": {},
   "outputs": [],
   "source": [
    "dfs_list = []\n",
    "\n",
    "dirs = [f for f in os.listdir(input_directory) if os.path.isdir(os.path.join(input_directory, f))]\n",
    "\n",
    "for directory in dirs:\n",
    "    for input_file in os.listdir(input_directory+'/'+directory):\n",
    "        file_path = input_directory+'/'+directory+'/'\n",
    "        file_name = os.path.basename(input_file)\n",
    "        save_lines = False\n",
    "        if file_name.endswith('.csv'):\n",
    "            with open(file_path+file_name) as f:\n",
    "                for line in f:\n",
    "                # Do something with 'line'        \n",
    "                #line = msg_line\n",
    "                    row =  parse_csv_line(line)\n",
    "                    if row[2] == 'MESSAGE': \n",
    "                        row_dict = json.loads(row[3])\n",
    "                        if row_dict['action'] == 'start':\n",
    "                            file_addition = row_dict['computerid']+'_'+row_dict['flowid']+'_'+row_dict['participantid']+'_'+row_dict['runid']+'_'\n",
    "                            outputfile = output_directory+file_addition+file_name\n",
    "                            start_time = row_dict['timestamp']\n",
    "                            start_row = row_dict\n",
    "                            if(not(save_lines)):\n",
    "                                f_out = open(outputfile, \"w\")   # 'r' for reading and 'w' for writing                       \n",
    "                                save_lines = True\n",
    "                            else:\n",
    "                                print(outputfile)\n",
    "                                f_out = open(outputfile, \"w\")\n",
    "                        elif row_dict['action'] == 'stop':\n",
    "                            end_time = row_dict['timestamp']\n",
    "                            duration = end_time - start_time\n",
    "                            start_row['user_duration'] = duration\n",
    "                            start_row.pop('action', None)\n",
    "                            #start_row['file'] = outputfile\n",
    "                            save_lines = False # No more lines for this flow  \n",
    "                            f_out.close()   # Close output file\n",
    "                            # save the meta data as the first two lines of the chunked CSV file\n",
    "                            a = list(start_row.keys())\n",
    "                            line1 = ','.join(a) \n",
    "                            a = list(start_row.values())\n",
    "                            line2 = ','.join([str(s) for s in a])\n",
    "                            with open(outputfile, 'r') as original:\n",
    "                                data = original.read()\n",
    "                            with open(outputfile, 'w') as modified:\n",
    "                                modified.write(line1+\"\\n\"+line2+\"\\n\" + data)\n",
    "                    elif row[2] == 'POWER' and save_lines:  \n",
    "                        f_out.write(line)   # Write line into the file \n",
    "\n"
   ]
  },
  {
   "cell_type": "code",
   "execution_count": null,
   "id": "b1158366-f6b7-4b60-99a0-aaeee3b754a2",
   "metadata": {},
   "outputs": [],
   "source": []
  }
 ],
 "metadata": {
  "kernelspec": {
   "display_name": "Python [conda env:base] *",
   "language": "python",
   "name": "conda-base-py"
  },
  "language_info": {
   "codemirror_mode": {
    "name": "ipython",
    "version": 3
   },
   "file_extension": ".py",
   "mimetype": "text/x-python",
   "name": "python",
   "nbconvert_exporter": "python",
   "pygments_lexer": "ipython3",
   "version": "3.12.7"
  }
 },
 "nbformat": 4,
 "nbformat_minor": 5
}
