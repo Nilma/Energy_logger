{
 "cells": [
  {
   "cell_type": "code",
   "execution_count": null,
   "id": "c1a6ea64",
   "metadata": {
    "vscode": {
     "languageId": "plaintext"
    }
   },
   "outputs": [],
   "source": [
    "# Power & Energy from CSV (+ optional Siglent comparison)\n",
    "\n",
    "import pandas as pd\n",
    "import numpy as np\n",
    "import matplotlib.pyplot as plt\n",
    "from pathlib import Path\n",
    "\n",
    "%matplotlib inline\n",
    "print(\"pandas\", pd.__version__)\n",
    "\n",
    "# --- Helpers ---\n",
    "def clean_columns(df):\n",
    "    out = df.copy()\n",
    "    out.columns = (\n",
    "        out.columns\n",
    "          .str.strip()\n",
    "          .str.replace(r\"\\s+\\(.*?\\)\", \"\", regex=True)   # drop units in ()\n",
    "          .str.replace(r\"[^0-9a-zA-Z_]+\", \"_\", regex=True)  # spaces → _\n",
    "          .str.lower()\n",
    "    )\n",
    "    return out\n",
    "\n",
    "def find_col_like(df, keywords):\n",
    "    for c in df.columns:\n",
    "        if any(k in c.lower() for k in keywords):\n",
    "            return c\n",
    "    return None\n",
    "\n",
    "def coerce_units(series, name):\n",
    "    name = name.lower()\n",
    "    s = pd.to_numeric(series, errors=\"coerce\")\n",
    "    if \"mv\" in name: s = s/1000\n",
    "    if \"ma\" in name: s = s/1000\n",
    "    return s\n",
    "\n",
    "def integrate_energy_wh(ts, p_w):\n",
    "    t = pd.to_datetime(ts)\n",
    "    p = pd.to_numeric(p_w, errors=\"coerce\")\n",
    "    d = pd.DataFrame({\"t\": t, \"p\": p}).dropna().sort_values(\"t\")\n",
    "    if d.empty: return pd.Series([], dtype=float), 0.0\n",
    "    dt = d[\"t\"].diff().dt.total_seconds().fillna(0)\n",
    "    e_wh = ((d[\"p\"].shift(1)+d[\"p\"])/2) * dt / 3600.0\n",
    "    return e_wh.cumsum().fillna(0), e_wh.cumsum().iloc[-1]"
   ]
  },
  {
   "cell_type": "code",
   "execution_count": null,
   "id": "d06dd528",
   "metadata": {
    "vscode": {
     "languageId": "plaintext"
    }
   },
   "outputs": [],
   "source": [
    "pi_csv = \"energy_log_20250829_120521_521_cpu1.csv\"  # adjust filename\n",
    "\n",
    "df_raw = pd.read_csv(pi_csv)\n",
    "df = clean_columns(df_raw)\n",
    "print(\"Columns:\", df.columns.tolist())\n",
    "\n",
    "time_col = find_col_like(df, [\"time\",\"timestamp\",\"date\"])\n",
    "volt_col = find_col_like(df, [\"volt\",\"v\"])\n",
    "curr_col = find_col_like(df, [\"curr\",\"amp\",\"a\",\"i\"])\n",
    "print(\"Detected:\", time_col, volt_col, curr_col)\n",
    "\n",
    "V = coerce_units(df[volt_col], volt_col)\n",
    "I = coerce_units(df[curr_col], curr_col)\n",
    "P = V * I\n",
    "\n",
    "d = pd.DataFrame({\n",
    "    \"time\": pd.to_datetime(df[time_col]),\n",
    "    \"voltage_v\": V,\n",
    "    \"current_a\": I,\n",
    "    \"power_w\": P\n",
    "}).dropna().sort_values(\"time\").set_index(\"time\")\n",
    "\n",
    "cum_Wh, total_Wh = integrate_energy_wh(d.index, d[\"power_w\"])\n",
    "d[\"energy_Wh\"] = cum_Wh\n",
    "print(\"Total energy (Wh):\", round(total_Wh, 6))"
   ]
  },
  {
   "cell_type": "code",
   "execution_count": null,
   "id": "1fe6cfc1",
   "metadata": {
    "vscode": {
     "languageId": "plaintext"
    }
   },
   "outputs": [],
   "source": [
    "plt.figure()\n",
    "d[\"power_w\"].plot()\n",
    "plt.title(\"Pi: Power over time (W)\")\n",
    "plt.ylabel(\"W\"); plt.xlabel(\"time\"); plt.tight_layout(); plt.show()\n",
    "\n",
    "plt.figure()\n",
    "d[\"energy_Wh\"].plot()\n",
    "plt.title(\"Pi: Cumulative energy (Wh)\")\n",
    "plt.ylabel(\"Wh\"); plt.xlabel(\"time\"); plt.tight_layout(); plt.show()"
   ]
  },
  {
   "cell_type": "code",
   "execution_count": null,
   "id": "5136b6c4",
   "metadata": {
    "vscode": {
     "languageId": "plaintext"
    }
   },
   "outputs": [],
   "source": [
    "siglent_csv = \"siglent_export.csv\"\n",
    "\n",
    "s_raw = pd.read_csv(siglent_csv)\n",
    "s = clean_columns(s_raw)\n",
    "print(\"Siglent cols:\", s.columns.tolist())\n",
    "\n",
    "st = find_col_like(s, [\"time\",\"timestamp\",\"date\"])\n",
    "sp = find_col_like(s, [\"power\",\"w\"])\n",
    "sig = pd.DataFrame({\"time\": pd.to_datetime(s[st]),\n",
    "                    \"siglent_power_w\": pd.to_numeric(s[sp], errors=\"coerce\")}).dropna()\n",
    "sig = sig.sort_values(\"time\").set_index(\"time\")\n",
    "\n",
    "# resample both to 1s for fair comparison\n",
    "pi1 = d[[\"power_w\"]].resample(\"1S\").mean()\n",
    "sg1 = sig.resample(\"1S\").mean()\n",
    "comp = pi1.join(sg1, how=\"inner\").dropna()\n",
    "\n",
    "print(comp.head())\n",
    "print(\"Correlation:\", comp[\"power_w\"].corr(comp[\"siglent_power_w\"]))\n",
    "\n",
    "plt.figure()\n",
    "comp[\"power_w\"].plot(label=\"Pi\")\n",
    "comp[\"siglent_power_w\"].plot(label=\"Siglent\")\n",
    "plt.legend(); plt.title(\"Power comparison (Pi vs Siglent)\")\n",
    "plt.ylabel(\"W\"); plt.tight_layout(); plt.show()"
   ]
  }
 ],
 "metadata": {
  "language_info": {
   "name": "python"
  }
 },
 "nbformat": 4,
 "nbformat_minor": 5
}
