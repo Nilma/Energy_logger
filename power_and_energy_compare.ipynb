{
 "cells": [
  {
   "cell_type": "markdown",
   "id": "1b26e730",
   "metadata": {},
   "source": [
    "## 🔍 What this script does\n",
    "\n",
    "This notebook compares power measurements from two sources:\n",
    "\n",
    "- 📟 **Raspberry Pi logger** (CSV: `energy_log_*.csv`)\n",
    "- ⚡ **Siglent power meter** (CSV: `cpu1.csv`)\n",
    "\n",
    "**Steps performed:**\n",
    "1. Parses voltage and current readings from the Pi, and calculates power and cumulative energy (Wh)\n",
    "2. Parses power measurements from the Siglent CSV\n",
    "3. Resamples both datasets to 1-second intervals for direct comparison\n",
    "4. Merges the two datasets by timestamp\n",
    "5. Computes correlation and visualizes both datasets on a time plot\n",
    "\n",
    "This helps validate whether the Pi-based measurement setup aligns closely with the calibrated Siglent readings.\n"
   ]
  },
  {
   "cell_type": "code",
   "execution_count": 1,
   "id": "d2e8e025",
   "metadata": {},
   "outputs": [],
   "source": [
    "# --- Imports ---\n",
    "import pandas as pd\n",
    "import matplotlib.pyplot as plt\n",
    "from datetime import datetime\n",
    "\n",
    "# --- Helper Functions ---\n",
    "def clean_columns(df):\n",
    "    df.columns = [col.strip().lower().replace(\" \", \"_\") for col in df.columns]\n",
    "    return df\n",
    "\n",
    "def find_col_like(df, keywords):\n",
    "    for kw in keywords:\n",
    "        for col in df.columns:\n",
    "            if kw.lower() in col.lower():\n",
    "                return col\n",
    "    raise ValueError(f\"No column matching any of {keywords}\")\n",
    "\n",
    "def coerce_units(series, name):\n",
    "    name = name.lower()\n",
    "    if \"mv\" in name:\n",
    "        return series / 1000.0\n",
    "    elif \"ma\" in name:\n",
    "        return series / 1000.0\n",
    "    elif \"ua\" in name or \"µa\" in name:\n",
    "        return series / 1_000_000.0\n",
    "    elif \"kw\" in name:\n",
    "        return series * 1000.0\n",
    "    return series\n"
   ]
  },
  {
   "cell_type": "code",
   "execution_count": 2,
   "id": "c1a6ea64",
   "metadata": {
    "vscode": {
     "languageId": "plaintext"
    }
   },
   "outputs": [
    {
     "name": "stdout",
     "output_type": "stream",
     "text": [
      "Siglent cols: ['index', 'time', 'minutes', 'datetime', 'spd33.ch1_voltage', 'spd33.ch1_current', 'spd33.ch1_power', 'unnamed:_7']\n",
      "No overlapping data between Pi and Siglent after resampling.\n"
     ]
    }
   ],
   "source": [
    "# --- Load and clean Siglent CSV ---\n",
    "siglent_csv = \"cpu1.csv\"\n",
    "s_raw = pd.read_csv(siglent_csv)\n",
    "s = clean_columns(s_raw)\n",
    "print(\"Siglent cols:\", s.columns.tolist())\n",
    "\n",
    "# Automatically detect time and power columns based on keywords\n",
    "st = find_col_like(s, [\"time\", \"timestamp\", \"date\"])\n",
    "sp = find_col_like(s, [\"power\", \"w\"])\n",
    "\n",
    "# Create time-indexed dataframe from Siglent readings\n",
    "sig = pd.DataFrame({\n",
    "    \"time\": pd.to_datetime(s[st], errors='coerce'),  # Convert time column\n",
    "    \"siglent_power_w\": pd.to_numeric(s[sp], errors=\"coerce\")  # Ensure power is numeric\n",
    "}).dropna().sort_values(\"time\").set_index(\"time\")  # Remove bad rows, sort and index by time\n",
    "\n",
    "# --- Load and process Pi logger CSV ---\n",
    "pi_csv = \"energy_log_20250829_120521_521_cpu1.csv\"\n",
    "pi_raw = pd.read_csv(pi_csv)\n",
    "\n",
    "# Convert ISO timestamps from Pi CSV to datetime index\n",
    "pi = pd.DataFrame({\n",
    "    \"time\": pd.to_datetime(pi_raw[\"Timestamp (ISO ms)\"]),\n",
    "    \"voltage_v\": pi_raw[\"Voltage (V)\"],\n",
    "    \"current_a\": pi_raw[\"Current (A)\"],\n",
    "    \"power_w\": pi_raw[\"Power (W)\"]\n",
    "}).dropna().sort_values(\"time\").set_index(\"time\")\n",
    "\n",
    "# Calculate cumulative energy in Wh from Pi logger data\n",
    "def integrate_energy_wh(index, power_series):\n",
    "    dt = index.to_series().diff().dt.total_seconds().fillna(0)\n",
    "    energy_joules = (power_series * dt).cumsum()\n",
    "    energy_wh = energy_joules / 3600\n",
    "    return energy_wh, energy_wh.iloc[-1] if not energy_wh.empty else 0\n",
    "\n",
    "cum_wh, total_wh = integrate_energy_wh(pi.index, pi[\"power_w\"])\n",
    "pi[\"energy_Wh\"] = cum_wh\n",
    "\n",
    "# --- Resample to 1s resolution for fair comparison ---\n",
    "pi1 = pi[[\"power_w\"]].resample(\"1s\").mean()\n",
    "sg1 = sig.resample(\"1s\").mean()\n",
    "comp = pi1.join(sg1, how=\"inner\").dropna()\n",
    "\n",
    "# --- Diagnostic output ---\n",
    "if comp.empty:\n",
    "    print(\"No overlapping data between Pi and Siglent after resampling.\")\n",
    "else:\n",
    "    print(\"Sample comparison data:\")\n",
    "    print(comp.head())\n",
    "    print(\"Correlation:\", comp[\"power_w\"].corr(comp[\"siglent_power_w\"]))\n",
    "\n",
    "    # --- Plot results ---\n",
    "    plt.figure()\n",
    "    comp[\"power_w\"].plot(label=\"Pi\")\n",
    "    comp[\"siglent_power_w\"].plot(label=\"Siglent\")\n",
    "    plt.legend()\n",
    "    plt.title(\"Power comparison (Pi vs Siglent)\")\n",
    "    plt.ylabel(\"Power (W)\")\n",
    "    plt.tight_layout()\n",
    "    plt.show()\n"
   ]
  },
  {
   "cell_type": "code",
   "execution_count": 3,
   "id": "d06dd528",
   "metadata": {
    "vscode": {
     "languageId": "plaintext"
    }
   },
   "outputs": [
    {
     "name": "stdout",
     "output_type": "stream",
     "text": [
      "Columns: ['timestamp_(iso_ms)', 'voltage_(v)', 'current_(a)', 'power_(w)', 'dt_(s)', 'energy_so_far_(j)']\n",
      "Detected: timestamp_(iso_ms) voltage_(v) current_(a)\n",
      "Total energy (Wh): 0.104613\n"
     ]
    }
   ],
   "source": [
    "pi_csv = \"energy_log_20250829_120521_521_cpu1.csv\"  # adjust filename\n",
    "\n",
    "df_raw = pd.read_csv(pi_csv)\n",
    "df = clean_columns(df_raw)\n",
    "print(\"Columns:\", df.columns.tolist())\n",
    "\n",
    "time_col = find_col_like(df, [\"time\",\"timestamp\",\"date\"])\n",
    "volt_col = find_col_like(df, [\"volt\",\"v\"])\n",
    "curr_col = find_col_like(df, [\"curr\",\"amp\",\"a\",\"i\"])\n",
    "print(\"Detected:\", time_col, volt_col, curr_col)\n",
    "\n",
    "V = coerce_units(df[volt_col], volt_col)\n",
    "I = coerce_units(df[curr_col], curr_col)\n",
    "P = V * I\n",
    "\n",
    "d = pd.DataFrame({\n",
    "    \"time\": pd.to_datetime(df[time_col]),\n",
    "    \"voltage_v\": V,\n",
    "    \"current_a\": I,\n",
    "    \"power_w\": P\n",
    "}).dropna().sort_values(\"time\").set_index(\"time\")\n",
    "\n",
    "cum_Wh, total_Wh = integrate_energy_wh(d.index, d[\"power_w\"])\n",
    "d[\"energy_Wh\"] = cum_Wh\n",
    "print(\"Total energy (Wh):\", round(total_Wh, 6))"
   ]
  },
  {
   "cell_type": "code",
   "execution_count": 4,
   "id": "2064f43d",
   "metadata": {
    "vscode": {
     "languageId": "plaintext"
    }
   },
   "outputs": [],
   "source": [
    "def clean_columns(df):\n",
    "    df.columns = [col.strip().lower().replace(\" \", \"_\") for col in df.columns]\n",
    "    return df\n",
    "\n",
    "def find_col_like(df, keywords):\n",
    "    for kw in keywords:\n",
    "        for col in df.columns:\n",
    "            if kw.lower() in col.lower():\n",
    "                return col\n",
    "    raise ValueError(f\"No column matching any of {keywords}\")"
   ]
  },
  {
   "cell_type": "code",
   "execution_count": 5,
   "id": "8ce447a8",
   "metadata": {
    "vscode": {
     "languageId": "plaintext"
    }
   },
   "outputs": [
    {
     "name": "stdout",
     "output_type": "stream",
     "text": [
      "                         voltage_v  current_a   power_w  energy_Wh\n",
      "time                                                              \n",
      "2025-08-29 12:05:21.546   0.879731    0.86621  0.762032   0.000000\n",
      "2025-08-29 12:05:21.644   0.879193    0.86621  0.761566   0.000021\n",
      "2025-08-29 12:05:21.744   0.879193    0.86621  0.761566   0.000042\n",
      "2025-08-29 12:05:21.844   0.878925    0.86621  0.761334   0.000063\n",
      "2025-08-29 12:05:21.944   0.879193    0.85728  0.753715   0.000084\n",
      "           power_w    energy_Wh\n",
      "count  3600.000000  3600.000000\n",
      "mean      1.046315     0.049025\n",
      "std       0.574595     0.035209\n",
      "min       0.407809     0.000000\n",
      "25%       0.461292     0.015866\n",
      "50%       0.816275     0.044458\n",
      "75%       1.515280     0.082935\n",
      "max       2.889239     0.104613\n",
      "DatetimeIndex(['2025-08-29 12:05:21.546000', '2025-08-29 12:05:21.644000',\n",
      "               '2025-08-29 12:05:21.744000', '2025-08-29 12:05:21.844000',\n",
      "               '2025-08-29 12:05:21.944000', '2025-08-29 12:05:22.044000',\n",
      "               '2025-08-29 12:05:22.144000', '2025-08-29 12:05:22.244000',\n",
      "               '2025-08-29 12:05:22.344000', '2025-08-29 12:05:22.444000',\n",
      "               ...\n",
      "               '2025-08-29 12:11:20.544000', '2025-08-29 12:11:20.645000',\n",
      "               '2025-08-29 12:11:20.744000', '2025-08-29 12:11:20.844000',\n",
      "               '2025-08-29 12:11:20.944000', '2025-08-29 12:11:21.044000',\n",
      "               '2025-08-29 12:11:21.144000', '2025-08-29 12:11:21.244000',\n",
      "               '2025-08-29 12:11:21.344000', '2025-08-29 12:11:21.444000'],\n",
      "              dtype='datetime64[ns]', name='time', length=3600, freq=None)\n"
     ]
    }
   ],
   "source": [
    "print(d.head())                    # Check if any data exists\n",
    "print(d[[\"power_w\", \"energy_Wh\"]].describe())  # Look for NaNs or all-zeroes\n",
    "print(d.index)                     # Ensure the index is datetime or meaningful"
   ]
  },
  {
   "cell_type": "code",
   "execution_count": 6,
   "id": "1fe6cfc1",
   "metadata": {
    "vscode": {
     "languageId": "plaintext"
    }
   },
   "outputs": [
    {
     "data": {
      "image/png": "[encoded data removed]",
      "text/plain": [
       "<Figure size 640x480 with 1 Axes>"
      ]
     },
     "metadata": {},
     "output_type": "display_data"
    },
    {
     "data": {
      "image/png": "[encoded data removed]",
      "text/plain": [
       "<Figure size 640x480 with 1 Axes>"
      ]
     },
     "metadata": {},
     "output_type": "display_data"
    }
   ],
   "source": [
    "\n",
    "if d.empty or d[['power_w', 'energy_Wh']].isna().all().all():\n",
    "    print(\"Warning: DataFrame 'd' is empty or columns contain only NaNs\")\n",
    "    print(d.describe())\n",
    "else:\n",
    "    plt.figure()\n",
    "    d[\"power_w\"].plot()\n",
    "    plt.title(\"Pi: Power over time (W)\")\n",
    "    plt.ylabel(\"W\")\n",
    "    plt.xlabel(\"time\")\n",
    "    plt.tight_layout()\n",
    "    plt.show()\n",
    "\n",
    "    plt.figure()\n",
    "    d[\"energy_Wh\"].plot()\n",
    "    plt.title(\"Pi: Cumulative energy (Wh)\")\n",
    "    plt.ylabel(\"Wh\")\n",
    "    plt.xlabel(\"time\")\n",
    "    plt.tight_layout()\n",
    "    plt.show()\n"
   ]
  },
  {
   "cell_type": "code",
   "execution_count": 7,
   "id": "5136b6c4",
   "metadata": {
    "vscode": {
     "languageId": "plaintext"
    }
   },
   "outputs": [
    {
     "name": "stdout",
     "output_type": "stream",
     "text": [
      "Raw head:\n",
      "    index   time   minutes    dateTime  SPD33.CH1_Voltage  SPD33.CH1_Current  \\\n",
      "0      0  0.022  0.000367  1756803350                  5               0.45   \n",
      "1      1  0.327  0.005450  1756803351                  5               0.46   \n",
      "2      2  0.627  0.010450  1756803351                  5               0.46   \n",
      "3      3  0.927  0.015450  1756803351                  5               0.46   \n",
      "4      4  1.226  0.020433  1756803352                  5               0.46   \n",
      "\n",
      "   SPD33.CH1_Power  Unnamed: 7  \n",
      "0             2.25         NaN  \n",
      "1             2.30         NaN  \n",
      "2             2.30         NaN  \n",
      "3             2.30         NaN  \n",
      "4             2.30         NaN  \n",
      "\n",
      "Column names: ['index', 'time', 'minutes', 'dateTime', 'SPD33.CH1_Voltage', 'SPD33.CH1_Current', 'SPD33.CH1_Power', 'Unnamed: 7']\n",
      "\n",
      "Data summary:\n",
      "              index         time      minutes      dateTime  SPD33.CH1_Voltage  \\\n",
      "count  1134.000000  1134.000000  1134.000000  1.134000e+03             1134.0   \n",
      "mean    566.500000   177.671373     2.961190  1.756804e+09                5.0   \n",
      "std     327.501908   108.562369     1.809373  1.085283e+02                0.0   \n",
      "min       0.000000     0.022000     0.000367  1.756803e+09                5.0   \n",
      "25%     283.250000    85.001500     1.416692  1.756803e+09                5.0   \n",
      "50%     566.500000   169.977000     2.832950  1.756804e+09                5.0   \n",
      "75%     849.750000   268.363000     4.472717  1.756804e+09                5.0   \n",
      "max    1133.000000   381.664000     6.361067  1.756804e+09                5.0   \n",
      "\n",
      "       SPD33.CH1_Current  SPD33.CH1_Power   Unnamed: 7  \n",
      "count        1134.000000      1134.000000  1076.000000  \n",
      "mean            0.633721         3.168474    40.171933  \n",
      "std             0.129450         0.647403    35.867238  \n",
      "min             0.450000         2.250000     0.000000  \n",
      "25%             0.470000         2.350000     0.000000  \n",
      "50%             0.680000         3.400000    25.000000  \n",
      "75%             0.740000         3.700000    75.000000  \n",
      "max             0.860000         4.300000   100.000000  \n",
      "Siglent cols: ['index', 'time', 'minutes', 'datetime', 'spd33.ch1_voltage', 'spd33.ch1_current', 'spd33.ch1_power', 'unnamed:_7']\n",
      "No overlapping data between Pi and Siglent after resampling.\n",
      "Cleaned head:\n",
      "                                siglent_power_w\n",
      "time                                          \n",
      "1970-01-01 00:00:00.000000000             2.25\n",
      "1970-01-01 00:00:00.000000000             2.30\n",
      "1970-01-01 00:00:00.000000000             2.30\n",
      "1970-01-01 00:00:00.000000000             2.30\n",
      "1970-01-01 00:00:00.000000001             2.30\n",
      "Siglent index range: 1970-01-01 00:00:00 to 1970-01-01 00:00:00.000000381\n",
      "Pi index range: 2025-08-29 12:05:21.546000 to 2025-08-29 12:11:21.444000\n"
     ]
    }
   ],
   "source": [
    "\n",
    "siglent_csv = \"cpu1.csv\"\n",
    "s_raw = pd.read_csv(siglent_csv)  # ✅ Load the file first\n",
    "\n",
    "# ✅ Now print info\n",
    "print(\"Raw head:\\n\", s_raw.head())\n",
    "print(\"\\nColumn names:\", s_raw.columns.tolist())\n",
    "print(\"\\nData summary:\\n\", s_raw.describe(include='all'))\n",
    "\n",
    "# Continue with the rest of your cleaning and parsing\n",
    "s = clean_columns(s_raw)\n",
    "print(\"Siglent cols:\", s.columns.tolist())\n",
    "\n",
    "st = find_col_like(s, [\"time\",\"timestamp\",\"date\"])\n",
    "sp = find_col_like(s, [\"power\",\"w\"])\n",
    "\n",
    "sig = pd.DataFrame({\n",
    "    \"time\": pd.to_datetime(s[st], errors='coerce'),\n",
    "    \"siglent_power_w\": pd.to_numeric(s[sp], errors=\"coerce\")\n",
    "}).dropna()\n",
    "\n",
    "sig = sig.sort_values(\"time\").set_index(\"time\")\n",
    "\n",
    "# Resample both to 1s using 's' (lowercase, per warning)\n",
    "pi1 = d[[\"power_w\"]].resample(\"1s\").mean()\n",
    "sg1 = sig.resample(\"1s\").mean()\n",
    "\n",
    "comp = pi1.join(sg1, how=\"inner\").dropna()\n",
    "\n",
    "if comp.empty:\n",
    "    print(\"No overlapping data between Pi and Siglent after resampling.\")\n",
    "else:\n",
    "    print(comp.head())\n",
    "    print(\"Correlation:\", comp[\"power_w\"].corr(comp[\"siglent_power_w\"]))\n",
    "\n",
    "    plt.figure()\n",
    "    comp[\"power_w\"].plot(label=\"Pi\")\n",
    "    comp[\"siglent_power_w\"].plot(label=\"Siglent\")\n",
    "    plt.legend()\n",
    "    plt.title(\"Power comparison (Pi vs Siglent)\")\n",
    "    plt.ylabel(\"W\")\n",
    "    plt.tight_layout()\n",
    "    plt.show()\n",
    "\n",
    "print(\"Cleaned head:\\n\", sig.head())\n",
    "print(\"Siglent index range:\", sig.index.min(), \"to\", sig.index.max())\n",
    "print(\"Pi index range:\", d.index.min(), \"to\", d.index.max())\n"
   ]
  },
  {
   "cell_type": "code",
   "execution_count": null,
   "id": "18dff658-3362-48ed-800b-bfb88d51a38c",
   "metadata": {},
   "outputs": [],
   "source": []
  }
 ],
 "metadata": {
  "kernelspec": {
   "display_name": "Python [conda env:base] *",
   "language": "python",
   "name": "conda-base-py"
  },
  "language_info": {
   "codemirror_mode": {
    "name": "ipython",
    "version": 3
   },
   "file_extension": ".py",
   "mimetype": "text/x-python",
   "name": "python",
   "nbconvert_exporter": "python",
   "pygments_lexer": "ipython3",
   "version": "3.12.7"
  }
 },
 "nbformat": 4,
 "nbformat_minor": 5
}
