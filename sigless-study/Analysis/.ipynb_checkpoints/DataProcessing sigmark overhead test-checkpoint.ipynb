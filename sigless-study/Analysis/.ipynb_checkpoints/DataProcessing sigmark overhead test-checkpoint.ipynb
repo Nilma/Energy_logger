{
 "cells": [
  {
   "cell_type": "code",
   "execution_count": null,
   "id": "47d806b8-69f3-4816-ad6c-af146c60faf3",
   "metadata": {},
   "outputs": [],
   "source": [
    "import pandas as pd\n",
    "import seaborn as sns\n",
    "import matplotlib.pyplot as plt\n",
    "from scipy import integrate\n",
    "import numpy as np\n",
    "import matplotlib.pyplot as plt\n",
    "import os\n",
    "import re\n",
    "import csv, json\n",
    "from sklearn.metrics import root_mean_squared_error,mean_squared_error\n",
    "import numpy as np\n",
    "\n",
    "from statsmodels.stats.weightstats import ttost_ind\n",
    "import statsmodels.formula.api as smf\n",
    "import statsmodels.api as sm\n"
   ]
  },
  {
   "cell_type": "markdown",
   "id": "b70f0c16-3915-4137-a2d7-cbfaac6cc7b2",
   "metadata": {},
   "source": [
    "# Read me\n",
    "\n",
    "## Before running this script.\n",
    "This script relies on the data being chunked by \"DataChunking_sigmark_overheadtest.ipynb\" and that we have obtained one csv file for each of the tests. If in doubt, check your \"ChunkedData\" folder.\n",
    "**If there are no files in the ChunkedData-folder**, please open and run the DataChunking_sigmark_overheadtest.ipynb before you continue.\n",
    "\n",
    "The following imports the chunked data and provides us with two dataframes:\n",
    "- dfs which holds the energy data for all the test\n",
    "- df_powers holds all the power measurements for all the tests\n",
    "\n",
    "*After the import, the data is ready for your data analysis.*"
   ]
  },
  {
   "cell_type": "code",
   "execution_count": null,
   "id": "5c0c07d3-8d71-4c2d-bc4a-4b1fc576a7c8",
   "metadata": {},
   "outputs": [],
   "source": [
    "input_directory = '../ChunkedData'\n",
    "output_directory = '../Results/'"
   ]
  },
  {
   "cell_type": "code",
   "execution_count": null,
   "id": "d5df47d7-22f1-487c-bb5c-e086f3791655",
   "metadata": {},
   "outputs": [],
   "source": [
    "# this part reads the chunked data files related to the "
   ]
  },
  {
   "cell_type": "code",
   "execution_count": null,
   "id": "1c834fb6-cb15-4625-9514-26c041024b20",
   "metadata": {},
   "outputs": [],
   "source": [
    "ls ../ChunkedData"
   ]
  },
  {
   "cell_type": "code",
   "execution_count": null,
   "id": "4f0dd3a4-acc6-458b-ad19-986c880d29aa",
   "metadata": {},
   "outputs": [],
   "source": [
    "pd.read_csv('../ChunkedData/sigmark_10_siglent.1761304296968.CH1.csv',nrows=1,header=0)\n",
    "\n",
    "# we want to  keep id2, exp_duration, count as  test, exp_duration, no_of_messages"
   ]
  },
  {
   "cell_type": "code",
   "execution_count": null,
   "id": "f0c6fb58-5652-4201-b00a-0132d70dee51",
   "metadata": {},
   "outputs": [],
   "source": [
    "#import all the CSV files\n",
    "\n",
    "# (a) Read from row 3 and on into df and calculate energy consumption\n",
    "# (b) Read the first two lines with meta data, add the calculated energy consumption and concat to the existing\n",
    "ID = 0\n",
    "list_of_metadataframes = []\n",
    "list_of_dataframes = []\n",
    "for input_file in os.listdir(input_directory):\n",
    "    file_path = input_directory+'/'\n",
    "    file_name = os.path.basename(input_file)\n",
    "    if file_name.endswith('.csv'):\n",
    "        df = pd.read_csv(file_path+file_name,skiprows=2, names=['timestamp','channel','action','payload'])\n",
    "        # print(file_path+file_name,df['timestamp'].dtypes)\n",
    "        df['time'] = (df['timestamp']-df['timestamp'].min()) / 1000\n",
    "        df['ID'] = ID\n",
    "        x = df['time']\n",
    "        y = df['payload']\n",
    "        y_int = integrate.cumulative_trapezoid(y, x, initial=0)\n",
    "        #plt.plot(x, y_int)\n",
    "        #plt.plot(x,y)\n",
    "        #plt.savefig('')\n",
    "        #plt.show()\n",
    "        energy = y_int[-1]\n",
    "        df_main = pd.read_csv(file_path+file_name,nrows=1,header=0,usecols = [1,4,5],names=['test','exp_duration','no_of_messages'])\n",
    "        df_main['duration']=df['time'].max() # in seconds\n",
    "        df_main['energy']=energy  # in joules\n",
    "        df_main['power_avg']= energy/df_main['duration'] # in Watt\n",
    "        df_main['ID'] = ID\n",
    "        # print(df_main)\n",
    "        df['test']=df_main['test'][0]\n",
    "        df['no_of_messages']=df_main['no_of_messages'][0]\n",
    "        df['ID'] = ID\n",
    "        list_of_metadataframes.append(df_main)\n",
    "        list_of_dataframes.append(df)\n",
    "        ID = ID + 1\n"
   ]
  },
  {
   "cell_type": "code",
   "execution_count": null,
   "id": "837007ca-c959-43c9-9a30-a597915f2d13",
   "metadata": {},
   "outputs": [],
   "source": []
  },
  {
   "cell_type": "code",
   "execution_count": null,
   "id": "8d7eda3d-ba58-4210-8fe5-2461b8ef1037",
   "metadata": {},
   "outputs": [],
   "source": [
    "dfs =pd.concat(list_of_metadataframes)"
   ]
  },
  {
   "cell_type": "code",
   "execution_count": null,
   "id": "11b19cf6-c1f3-414b-8838-e7af77b995a0",
   "metadata": {},
   "outputs": [],
   "source": [
    "dfs = dfs.sort_values(by='test')\n",
    "dfs = dfs.reset_index(drop=True)"
   ]
  },
  {
   "cell_type": "code",
   "execution_count": null,
   "id": "8c45b53b-5d9a-4fd4-af8b-8f8e84884394",
   "metadata": {},
   "outputs": [],
   "source": [
    "dfs.describe()"
   ]
  },
  {
   "cell_type": "code",
   "execution_count": null,
   "id": "2e15df72-bba3-4c24-9be0-2fe6deaee855",
   "metadata": {},
   "outputs": [],
   "source": [
    "df_powers = pd.concat(list_of_dataframes)"
   ]
  },
  {
   "cell_type": "code",
   "execution_count": null,
   "id": "2abc3d5f-ec77-4968-bea8-474bdb519273",
   "metadata": {},
   "outputs": [],
   "source": [
    "df_powers = df_powers.reset_index(drop=True)"
   ]
  },
  {
   "cell_type": "code",
   "execution_count": null,
   "id": "37999d6d-e468-4b74-9b70-4c1391d7bb09",
   "metadata": {},
   "outputs": [],
   "source": [
    "df_powers.describe()"
   ]
  },
  {
   "cell_type": "markdown",
   "id": "971d8ad3-3466-42db-b0c5-44178ece1242",
   "metadata": {},
   "source": [
    "## **Data is ready for your analysis**"
   ]
  },
  {
   "cell_type": "markdown",
   "id": "b9231a2b-68b3-4deb-a44a-2a4f9b7a9b82",
   "metadata": {},
   "source": [
    "# Nilma and Jespers Data Analysis\n",
    "\n",
    "The above imports the chunked data and provides us with two dataframes:\n",
    "- dfs which holds the energy data for all the test\n",
    "- df_powers holds all the power measurements for all the tests\n",
    "\n",
    "1. Ultimately, we want to find out how much energy the raspberry pi is using per tick. \n",
    "2. We need to verify whether all the data looks like correct measurements. "
   ]
  },
  {
   "cell_type": "code",
   "execution_count": null,
   "id": "30f78b28-5e89-44b8-a0b4-8da84a07c83f",
   "metadata": {},
   "outputs": [],
   "source": [
    "# Your data analysis -does the data look good?\n",
    "\n"
   ]
  },
  {
   "cell_type": "markdown",
   "id": "e100ed47-d17e-492d-9e52-013067c2a339",
   "metadata": {},
   "source": [
    "\n",
    "### The Best-fit Global Model\n",
    "\n",
    "$\\text{energy} = a \\cdot \\text{number of messages} + b$\n",
    "\n",
    "- $a$: baseline slope (effect of sending a message).\n",
    "- $b$: global intercept (baseline energy when number of messages = 0).\n",
    "\n",
    "R-squared (R²) is defined as a number that tells you how well the independent variable(s) in a statistical model explains the variation in the dependent variable. It ranges from 0 to 1, where 1 indicates a perfect fit of the model to the data.\n",
    "\n",
    "While R² is often between 0 and 1, it can be negative when the model performs worse than predicting the mean of the data."
   ]
  },
  {
   "cell_type": "code",
   "execution_count": null,
   "id": "7703f1de-852d-4811-982f-aa2706b8fe32",
   "metadata": {},
   "outputs": [],
   "source": [
    "# Create a bestfit linear regression model, e.g., using smf.ols (imported above)\n",
    "\n"
   ]
  }
 ],
 "metadata": {
  "kernelspec": {
   "display_name": "Python [conda env:base] *",
   "language": "python",
   "name": "conda-base-py"
  },
  "language_info": {
   "codemirror_mode": {
    "name": "ipython",
    "version": 3
   },
   "file_extension": ".py",
   "mimetype": "text/x-python",
   "name": "python",
   "nbconvert_exporter": "python",
   "pygments_lexer": "ipython3",
   "version": "3.12.7"
  }
 },
 "nbformat": 4,
 "nbformat_minor": 5
}
